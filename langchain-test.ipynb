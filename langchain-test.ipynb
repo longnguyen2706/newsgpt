{
 "cells": [
  {
   "attachments": {},
   "cell_type": "markdown",
   "metadata": {},
   "source": [
    "# NewsGPT Cookbook with LangChain\n",
    "\n",
    "1) First load news from various news sites"
   ]
  },
  {
   "cell_type": "code",
   "execution_count": 183,
   "metadata": {},
   "outputs": [],
   "source": [
    "class NewsCategory:\n",
    "    ALL = \"all\"\n",
    "    BUSINESS = \"business\"\n",
    "    POLITICS = \"politics\"\n",
    "    SPORTS = \"sports\"\n",
    "    TECHNOLOGY = \"technology\"\n",
    "\n",
    "class NewsLength:\n",
    "    SHORT = 15\n",
    "    MEDIUM = 30\n",
    "    LONG = 50\n",
    "    \n",
    "def news_urls_to_category(category: NewsCategory):\n",
    "    _urls = [\"https://www.wsj.com/\", \"https://www.nytimes.com/\", \"https://www.apnews.com/\", \"https://www.bbc.com/\"]\n",
    "    post_fixes = {\n",
    "        NewsCategory.ALL: [\"\", \"\", \"\", \"news/\"],\n",
    "        NewsCategory.BUSINESS: [\"news/business\", \"section/business\", \"hub/business\", \"news/business\"],\n",
    "        NewsCategory.TECHNOLOGY: [\"news/technology\", \"section/technology\", \"hub/technology\", \"news/technology\"],\n",
    "        NewsCategory.POLITICS: [\"news/politics\", \"section/politics\", \"hub/politics\", \"\"],\n",
    "        NewsCategory.SPORTS: [\"news/sports\", \"section/sports\", \"hub/sports\", \"sport\"],\n",
    "    }\n",
    "    # append urls\n",
    "    for i in range(len(_urls)):\n",
    "        _urls[i] += post_fixes[category][i]\n",
    "    return _urls"
   ]
  },
  {
   "cell_type": "code",
   "execution_count": 195,
   "metadata": {},
   "outputs": [
    {
     "name": "stdout",
     "output_type": "stream",
     "text": [
      "['https://www.wsj.com/news/technology', 'https://www.nytimes.com/section/technology', 'https://www.apnews.com/hub/technology', 'https://www.bbc.com/news/technology']\n"
     ]
    }
   ],
   "source": [
    "\n",
    "#######################################################################\n",
    "\n",
    "from langchain.document_loaders import SeleniumURLLoader\n",
    "\n",
    "news_category = NewsCategory.TECHNOLOGY\n",
    "urls = news_urls_to_category(news_category)\n",
    "print(urls)\n",
    "\n",
    "loader = SeleniumURLLoader(urls=urls)\n",
    "docs = loader.load()"
   ]
  },
  {
   "cell_type": "code",
   "execution_count": 196,
   "metadata": {},
   "outputs": [
    {
     "name": "stdout",
     "output_type": "stream",
     "text": [
      "4\n",
      "<class 'langchain.schema.Document'>\n",
      "3621\n",
      "2350\n",
      "20366\n",
      "7294\n",
      "3000\n",
      "2350\n",
      "3000\n",
      "3000\n"
     ]
    }
   ],
   "source": [
    "# Docs Filtering\n",
    "print(len(docs))\n",
    "print(type(docs[0]))\n",
    "\n",
    "# This tries to truncate the page content to 3000 characters\n",
    "for d in docs:\n",
    "    l = len(d.page_content)\n",
    "    print(l)\n",
    "    if l > 3000:\n",
    "        d.page_content = d.page_content[:3000]\n",
    "\n",
    "print(\" size after truncation of docs\")\n",
    "for d in docs:\n",
    "    print(len(d.page_content))\n",
    "\n",
    "# print(docs)"
   ]
  },
  {
   "attachments": {},
   "cell_type": "markdown",
   "metadata": {},
   "source": [
    "Now use OpenAI LLM Model. To get OpenAI API key via Azure, follow [this link](https://learn.microsoft.com/en-gb/azure/cognitive-services/openai/quickstart?tabs=command-line&pivots=programming-language-python)"
   ]
  },
  {
   "cell_type": "code",
   "execution_count": 146,
   "metadata": {},
   "outputs": [],
   "source": [
    "import os\n",
    "import openai\n",
    "\n",
    "openai.api_key = \"700fa82411ad46069807d49abd48c7ad\"\n",
    "openai.api_base =  \"https://newsgpt.openai.azure.com/\" # your endpoint should look like the following https://YOUR_RESOURCE_NAME.openai.azure.com/\n",
    "openai.api_type = 'azure'\n",
    "openai.api_version = '2022-12-01' # this may change in the future\n",
    "\n",
    "os.environ[\"OPENAI_API_KEY\"] = openai.api_key\n",
    "os.environ[\"OPENAI_API_TYPE\"] = openai.api_type\n",
    "os.environ[\"OPENAI_API_BASE\"] = openai.api_base\n",
    "os.environ[\"OPENAI_API_VERSION\"] = openai.api_version"
   ]
  },
  {
   "cell_type": "code",
   "execution_count": 148,
   "metadata": {},
   "outputs": [
    {
     "name": "stdout",
     "output_type": "stream",
     "text": [
      "Sending a test completion job\n",
      "This article covers a range of stories related to the current state of the economy and market pain, many of which involve foreign haps, technological and financial developments, and business deals. From the construction industry's high employment and Fed interest rate bets, to Chinese information restrictions and GM's electric vehicle legacy, to digital purchases and golf lessons, to luxury homebuying and stolent iPhones, the article covers a diverse array of topics related to industry, finance, and technology.\n"
     ]
    }
   ],
   "source": [
    "# This is to TEST use Azure OpenAI API\n",
    "import os\n",
    "import requests\n",
    "import json\n",
    "\n",
    "deployment_name='text-davinci-003' #This will correspond to the custom name you chose for your deployment when you deployed a model. \n",
    "\n",
    "# Send a completion call to generate an answer\n",
    "print('Sending a test completion job')\n",
    "start_phrase = \"Summarize this article: \\n\" + docs[0].page_content\n",
    "response = openai.Completion.create(engine=deployment_name, prompt=start_phrase, max_tokens=100)\n",
    "text = response['choices'][0]['text'].replace('\\n', '').replace(' .', '.').strip()\n",
    "print(text)"
   ]
  },
  {
   "cell_type": "code",
   "execution_count": 149,
   "metadata": {},
   "outputs": [
    {
     "name": "stdout",
     "output_type": "stream",
     "text": [
      "USING API_BASE: \n",
      "https://newsgpt.openai.azure.com/\n"
     ]
    }
   ],
   "source": [
    "from langchain.llms import AzureOpenAI\n",
    "\n",
    "llm = AzureOpenAI(\n",
    "    deployment_name=\"text-davinci-003\",\n",
    "    model_name=\"text-davinci-003\",\n",
    "    max_tokens=1000)  # default is 16 in openai API\n"
   ]
  },
  {
   "attachments": {},
   "cell_type": "markdown",
   "metadata": {},
   "source": [
    "The above URL loader will convert the scrapped news to langchain Document format. If we wish to load our own data, we can use the following code:"
   ]
  },
  {
   "cell_type": "code",
   "execution_count": 72,
   "metadata": {},
   "outputs": [
    {
     "name": "stdout",
     "output_type": "stream",
     "text": [
      "[Document(page_content='Google’s employees were shocked when they learned in March that the South Korean consumer electronics giant Samsung was considering replacing Google with Microsoft’s Bing as the default search engine on its devices. For years, Bing had been a search engine also-ran. But it became a lot more interesting to industry insiders when it recently added new artificial intelligence technology.     Google’s reaction to the Samsung threat was “panic,” according to internal messages reviewed by The New York Times. An estimated $3 billion in annual revenue was at stake with the Samsung contract. An additional $20 billion is tied to a similar Apple contract that will be up for renewal this year.     A.I. competitors like the new Bing are quickly becoming the most serious threat to Google’s search business in 25 years, and in response, Google is racing to build an all-new search engine powered by the technology. It is also upgrading the existing one with A.I. features, according to internal documents reviewed by The Times.     The new features, under the project name Magi, are being created by designers, engineers and executives working in so-called sprint rooms to tweak and test the latest versions. The new search engine would offer users a far more personalized experience than the company’s current service, attempting to anticipate users’ needs.     Lara Levin, a Google spokeswoman, said in a statement that “not every brainstorm deck or product idea leads to a launch, but as we’ve said before, we’re excited about bringing new A.I.-powered features to search, and will share more details soon.”     Billions of people use Google’s search engine every day for everything from finding restaurants and directions to understanding a medical diagnosis, and that simple white page with the company logo and an empty bar in the middle is one of the most widely used web pages in the world. Changes to it would have a significant impact on the lives of ordinary people, and until recently it was hard to imagine anything challenging it.', metadata={})]\n"
     ]
    }
   ],
   "source": [
    "# use template data\n",
    "data = \"Google’s employees were shocked when they learned in March that the South Korean consumer electronics giant Samsung was considering replacing Google with Microsoft’s Bing as the default search engine on its devices. For years, Bing had been a search engine also-ran. But it became a lot more interesting to industry insiders when it recently added new artificial intelligence technology. \\\n",
    "    Google’s reaction to the Samsung threat was “panic,” according to internal messages reviewed by The New York Times. An estimated $3 billion in annual revenue was at stake with the Samsung contract. An additional $20 billion is tied to a similar Apple contract that will be up for renewal this year. \\\n",
    "    A.I. competitors like the new Bing are quickly becoming the most serious threat to Google’s search business in 25 years, and in response, Google is racing to build an all-new search engine powered by the technology. It is also upgrading the existing one with A.I. features, according to internal documents reviewed by The Times. \\\n",
    "    The new features, under the project name Magi, are being created by designers, engineers and executives working in so-called sprint rooms to tweak and test the latest versions. The new search engine would offer users a far more personalized experience than the company’s current service, attempting to anticipate users’ needs. \\\n",
    "    Lara Levin, a Google spokeswoman, said in a statement that “not every brainstorm deck or product idea leads to a launch, but as we’ve said before, we’re excited about bringing new A.I.-powered features to search, and will share more details soon.” \\\n",
    "    Billions of people use Google’s search engine every day for everything from finding restaurants and directions to understanding a medical diagnosis, and that simple white page with the company logo and an empty bar in the middle is one of the most widely used web pages in the world. Changes to it would have a significant impact on the lives of ordinary people, and until recently it was hard to imagine anything challenging it.\"\n",
    "\n",
    "from langchain.text_splitter import CharacterTextSplitter\n",
    "\n",
    "text_splitter = CharacterTextSplitter()\n",
    "texts = text_splitter.split_text(data)\n",
    "\n",
    "from langchain.docstore.document import Document\n",
    "\n",
    "docs2 = [Document(page_content=t) for t in texts[:3]]\n",
    "print(docs2)"
   ]
  },
  {
   "cell_type": "code",
   "execution_count": null,
   "metadata": {},
   "outputs": [],
   "source": [
    "print(docs)"
   ]
  },
  {
   "cell_type": "code",
   "execution_count": 197,
   "metadata": {},
   "outputs": [
    {
     "name": "stdout",
     "output_type": "stream",
     "text": [
      "\n",
      "\n",
      "Technology is playing an increasingly important role in our lives and the news is filled with stories reflecting that. Elon Musk is taking a unique approach to Tesla's price cuts in order to survive. Big tech earnings have been good and shares have risen, but growth has not been as impressive as Microsoft, Amazon and Google. Social-media shopping scams are targeting young adults and tech companies are beginning to ask for payment for content created by millions of people. Google has lost its bid to escape a digital-ad antitrust case, but ChatGPT has been allowed to resume operations in Italy after making data-privacy concessions. Stories about cloning with AI and protecting yourself if your iPhone is stolen have been shared. Executives who guide the Instacart CEO, doctors using AI to answer patient questions, and the top colleges for high-paying jobs in tech have been discussed. Europe has asked ChatGPT to disclose their sources, while subscription price creep and custom earplugs are also making news. Apple's new savings account could tempt users into overspending, tech billionaires are betting on fusion as the 'holy grail' for business, and startups are looking to remove 'forever chemicals'. There is a $300 million San Francisco office tower that is mostly empty and open to offers. States are attempting to limit access to online services, while conspiracy theories around the Denver airport are also gaining attention. SpaceX has shared a timeline of what went wrong on the most powerful rocket ever and social media platforms are connecting users with brands and influencers, prompting some to look for smaller networks. Wearable technology can be inaccurate but the broad trends can be helpful, and Musk has made changes to Twitter. Anita Harris is exploring the dangers of online dating, while J.D. Biersdorfer is sharing advice on how to use apps and tools for online collaboration. Finally, the Metropolitan Transportation Authority has stopped providing service alerts on Twitter, Huawei reported an increase in revenue, the US visa agency has raised 'serious concerns', Portland General Electric has announced a major clean energy storage project, time-banking is a new way of getting paid, Belfast tech is using virtual reality to help victims prepare for court, the NHS Covid-19 app was shut down, AI Covid detection research is being adapted to help detect other illnesses, a man in the UK was sentenced for pointing an airgun at a drone, the UK games sector is backing a Microsoft deal to take over Activision, and Wikipedia has refused to comply with the UK's Online Safety Bill's age verification requirements.\n"
     ]
    }
   ],
   "source": [
    "# Refer to: https://python.langchain.com/en/latest/use_cases/summarization.html\n",
    "\n",
    "from langchain.chains.summarize import load_summarize_chain\n",
    "from langchain import PromptTemplate\n",
    "\n",
    "###############################################################################################\n",
    "\n",
    "news_length = NewsLength.LONG\n",
    "DEBUG = False\n",
    "\n",
    "###############################################################################################\n",
    "\n",
    "map_prompt_template = f\"Write a {news_category} news headlines summary of the following:\"\n",
    "map_prompt_template += \" \\n\\n {text} \\n\\n\"\n",
    "map_prompt_template += f\"PROVIDE SUMMARY WITH AROUND {news_length +10} SENTENCES\"\n",
    "\n",
    "reduce_prompt_template = f\"Write a summary of today's {news_category} news headlines from the following news sources:\"\n",
    "reduce_prompt_template += \" \\n\\n {text} \\n\\n\"\n",
    "reduce_prompt_template += f\"PROVIDE SUMMARY WITH AROUND {news_length} SENTENCES\"\n",
    "\n",
    "\n",
    "MAP_PROMPT = PromptTemplate(template=map_prompt_template, input_variables=[\"text\"])\n",
    "REDUCE_PROMPT = PromptTemplate(template=map_prompt_template, input_variables=[\"text\"])\n",
    "\n",
    "if DEBUG:\n",
    "    chain = load_summarize_chain(llm,\n",
    "                                 chain_type=\"map_reduce\",\n",
    "                                 map_prompt=MAP_PROMPT,\n",
    "                                 combine_prompt=REDUCE_PROMPT,\n",
    "                                 return_map_steps=True)\n",
    "    chain({\"input_documents\": docs}, return_only_outputs=True)\n",
    "else:\n",
    "    chain = load_summarize_chain(\n",
    "        llm, chain_type=\"map_reduce\", map_prompt=MAP_PROMPT,\n",
    "        combine_prompt=REDUCE_PROMPT)\n",
    "    summary = chain.run(docs)\n",
    "    print(summary)"
   ]
  }
 ],
 "metadata": {
  "kernelspec": {
   "display_name": "Python 3 (ipykernel)",
   "language": "python",
   "name": "python3"
  },
  "language_info": {
   "codemirror_mode": {
    "name": "ipython",
    "version": 3
   },
   "file_extension": ".py",
   "mimetype": "text/x-python",
   "name": "python",
   "nbconvert_exporter": "python",
   "pygments_lexer": "ipython3",
   "version": "3.10.6"
  },
  "orig_nbformat": 4
 },
 "nbformat": 4,
 "nbformat_minor": 2
}
