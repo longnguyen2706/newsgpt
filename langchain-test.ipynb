{
 "cells": [
  {
   "attachments": {},
   "cell_type": "markdown",
   "metadata": {},
   "source": [
    "# NewsGPT Cookbook with LangChain\n",
    "\n",
    "1) First load news from various news sites"
   ]
  },
  {
   "cell_type": "code",
   "execution_count": 199,
   "metadata": {},
   "outputs": [],
   "source": [
    "class NewsCategory:\n",
    "    ALL = \"all\"\n",
    "    BUSINESS = \"business\"\n",
    "    POLITICS = \"politics\"\n",
    "    SPORTS = \"sports\"\n",
    "    TECHNOLOGY = \"technology\"\n",
    "\n",
    "class NewsLength:\n",
    "    SHORT = 15\n",
    "    MEDIUM = 30\n",
    "    LONG = 50\n",
    "    \n",
    "def news_urls_to_category(category: NewsCategory):\n",
    "    _urls = [\"https://www.wsj.com/\", \"https://www.nytimes.com/\", \"https://www.apnews.com/\", \"https://www.bbc.com/\"]\n",
    "    post_fixes = {\n",
    "        NewsCategory.ALL: [\"\", \"\", \"\", \"news/\"],\n",
    "        NewsCategory.BUSINESS: [\"news/business\", \"section/business\", \"hub/business\", \"news/business\"],\n",
    "        NewsCategory.TECHNOLOGY: [\"news/technology\", \"section/technology\", \"hub/technology\", \"news/technology\"],\n",
    "        NewsCategory.POLITICS: [\"news/politics\", \"section/politics\", \"hub/politics\", \"\"],\n",
    "        NewsCategory.SPORTS: [\"news/sports\", \"section/sports\", \"hub/sports\", \"sport\"],\n",
    "    }\n",
    "    # append urls\n",
    "    for i in range(len(_urls)):\n",
    "        _urls[i] += post_fixes[category][i]\n",
    "    return _urls"
   ]
  },
  {
   "attachments": {},
   "cell_type": "markdown",
   "metadata": {},
   "source": [
    "2. Run Do Web Scrapper"
   ]
  },
  {
   "cell_type": "code",
   "execution_count": 200,
   "metadata": {},
   "outputs": [
    {
     "name": "stdout",
     "output_type": "stream",
     "text": [
      "['https://www.wsj.com/news/sports', 'https://www.nytimes.com/section/sports', 'https://www.apnews.com/hub/sports', 'https://www.bbc.com/sport']\n"
     ]
    }
   ],
   "source": [
    "\n",
    "#######################################################################\n",
    "\n",
    "from langchain.document_loaders import SeleniumURLLoader\n",
    "\n",
    "news_category = NewsCategory.SPORTS\n",
    "urls = news_urls_to_category(news_category)\n",
    "print(urls)\n",
    "\n",
    "loader = SeleniumURLLoader(urls=urls)\n",
    "docs = loader.load()"
   ]
  },
  {
   "cell_type": "code",
   "execution_count": 201,
   "metadata": {},
   "outputs": [
    {
     "name": "stdout",
     "output_type": "stream",
     "text": [
      "4\n",
      "<class 'langchain.schema.Document'>\n",
      "3144\n",
      "3919\n",
      "13222\n",
      "7226\n",
      " size after truncation of docs\n",
      "3000\n",
      "3000\n",
      "3000\n",
      "3000\n"
     ]
    }
   ],
   "source": [
    "# Docs Filtering\n",
    "print(len(docs))\n",
    "print(type(docs[0]))\n",
    "\n",
    "# This tries to truncate the page content to 3000 characters\n",
    "for d in docs:\n",
    "    l = len(d.page_content)\n",
    "    print(l)\n",
    "    if l > 3000:\n",
    "        d.page_content = d.page_content[:3000]\n",
    "\n",
    "print(\" size after truncation of docs\")\n",
    "for d in docs:\n",
    "    print(len(d.page_content))\n",
    "\n",
    "# print(docs)"
   ]
  },
  {
   "attachments": {},
   "cell_type": "markdown",
   "metadata": {},
   "source": [
    "Now use OpenAI LLM Model. To get OpenAI API key via Azure, follow [this link](https://learn.microsoft.com/en-gb/azure/cognitive-services/openai/quickstart?tabs=command-line&pivots=programming-language-python)"
   ]
  },
  {
   "cell_type": "code",
   "execution_count": 146,
   "metadata": {},
   "outputs": [],
   "source": [
    "import os\n",
    "import openai\n",
    "\n",
    "openai.api_key = \"700fa82411ad46069807d49abd48c7ad\"\n",
    "openai.api_base =  \"https://newsgpt.openai.azure.com/\" # your endpoint should look like the following https://YOUR_RESOURCE_NAME.openai.azure.com/\n",
    "openai.api_type = 'azure'\n",
    "openai.api_version = '2022-12-01' # this may change in the future\n",
    "\n",
    "os.environ[\"OPENAI_API_KEY\"] = openai.api_key\n",
    "os.environ[\"OPENAI_API_TYPE\"] = openai.api_type\n",
    "os.environ[\"OPENAI_API_BASE\"] = openai.api_base\n",
    "os.environ[\"OPENAI_API_VERSION\"] = openai.api_version"
   ]
  },
  {
   "cell_type": "code",
   "execution_count": 148,
   "metadata": {},
   "outputs": [
    {
     "name": "stdout",
     "output_type": "stream",
     "text": [
      "Sending a test completion job\n",
      "This article covers a range of stories related to the current state of the economy and market pain, many of which involve foreign haps, technological and financial developments, and business deals. From the construction industry's high employment and Fed interest rate bets, to Chinese information restrictions and GM's electric vehicle legacy, to digital purchases and golf lessons, to luxury homebuying and stolent iPhones, the article covers a diverse array of topics related to industry, finance, and technology.\n"
     ]
    }
   ],
   "source": [
    "# This is to TEST use Azure OpenAI API\n",
    "import os\n",
    "import requests\n",
    "import json\n",
    "\n",
    "deployment_name='text-davinci-003' #This will correspond to the custom name you chose for your deployment when you deployed a model. \n",
    "\n",
    "# Send a completion call to generate an answer\n",
    "print('Sending a test completion job')\n",
    "start_phrase = \"Summarize this article: \\n\" + docs[0].page_content\n",
    "response = openai.Completion.create(engine=deployment_name, prompt=start_phrase, max_tokens=100)\n",
    "text = response['choices'][0]['text'].replace('\\n', '').replace(' .', '.').strip()\n",
    "print(text)"
   ]
  },
  {
   "cell_type": "code",
   "execution_count": 149,
   "metadata": {},
   "outputs": [
    {
     "name": "stdout",
     "output_type": "stream",
     "text": [
      "USING API_BASE: \n",
      "https://newsgpt.openai.azure.com/\n"
     ]
    }
   ],
   "source": [
    "from langchain.llms import AzureOpenAI\n",
    "\n",
    "MODEL_NAME = \"text_curie-001\"\n",
    "MODEL_NAME = \"text-davinci-003\" # Davinci is 10x more expensive, use curie when testing\n",
    "\n",
    "llm = AzureOpenAI(\n",
    "    deployment_name=MODEL_NAME,\n",
    "    model_name=MODEL_NAME,\n",
    "    max_tokens=1000)  # default is 16 in openai API\n"
   ]
  },
  {
   "attachments": {},
   "cell_type": "markdown",
   "metadata": {},
   "source": [
    "The above URL loader will convert the scrapped news to langchain Document format. If we wish to load our own data, we can use the following code:"
   ]
  },
  {
   "cell_type": "code",
   "execution_count": 72,
   "metadata": {},
   "outputs": [
    {
     "name": "stdout",
     "output_type": "stream",
     "text": [
      "[Document(page_content='Google’s employees were shocked when they learned in March that the South Korean consumer electronics giant Samsung was considering replacing Google with Microsoft’s Bing as the default search engine on its devices. For years, Bing had been a search engine also-ran. But it became a lot more interesting to industry insiders when it recently added new artificial intelligence technology.     Google’s reaction to the Samsung threat was “panic,” according to internal messages reviewed by The New York Times. An estimated $3 billion in annual revenue was at stake with the Samsung contract. An additional $20 billion is tied to a similar Apple contract that will be up for renewal this year.     A.I. competitors like the new Bing are quickly becoming the most serious threat to Google’s search business in 25 years, and in response, Google is racing to build an all-new search engine powered by the technology. It is also upgrading the existing one with A.I. features, according to internal documents reviewed by The Times.     The new features, under the project name Magi, are being created by designers, engineers and executives working in so-called sprint rooms to tweak and test the latest versions. The new search engine would offer users a far more personalized experience than the company’s current service, attempting to anticipate users’ needs.     Lara Levin, a Google spokeswoman, said in a statement that “not every brainstorm deck or product idea leads to a launch, but as we’ve said before, we’re excited about bringing new A.I.-powered features to search, and will share more details soon.”     Billions of people use Google’s search engine every day for everything from finding restaurants and directions to understanding a medical diagnosis, and that simple white page with the company logo and an empty bar in the middle is one of the most widely used web pages in the world. Changes to it would have a significant impact on the lives of ordinary people, and until recently it was hard to imagine anything challenging it.', metadata={})]\n"
     ]
    }
   ],
   "source": [
    "# use template data\n",
    "data = \"Google’s employees were shocked when they learned in March that the South Korean consumer electronics giant Samsung was considering replacing Google with Microsoft’s Bing as the default search engine on its devices. For years, Bing had been a search engine also-ran. But it became a lot more interesting to industry insiders when it recently added new artificial intelligence technology. \\\n",
    "    Google’s reaction to the Samsung threat was “panic,” according to internal messages reviewed by The New York Times. An estimated $3 billion in annual revenue was at stake with the Samsung contract. An additional $20 billion is tied to a similar Apple contract that will be up for renewal this year. \\\n",
    "    A.I. competitors like the new Bing are quickly becoming the most serious threat to Google’s search business in 25 years, and in response, Google is racing to build an all-new search engine powered by the technology. It is also upgrading the existing one with A.I. features, according to internal documents reviewed by The Times. \\\n",
    "    The new features, under the project name Magi, are being created by designers, engineers and executives working in so-called sprint rooms to tweak and test the latest versions. The new search engine would offer users a far more personalized experience than the company’s current service, attempting to anticipate users’ needs. \\\n",
    "    Lara Levin, a Google spokeswoman, said in a statement that “not every brainstorm deck or product idea leads to a launch, but as we’ve said before, we’re excited about bringing new A.I.-powered features to search, and will share more details soon.” \\\n",
    "    Billions of people use Google’s search engine every day for everything from finding restaurants and directions to understanding a medical diagnosis, and that simple white page with the company logo and an empty bar in the middle is one of the most widely used web pages in the world. Changes to it would have a significant impact on the lives of ordinary people, and until recently it was hard to imagine anything challenging it.\"\n",
    "\n",
    "from langchain.text_splitter import CharacterTextSplitter\n",
    "\n",
    "text_splitter = CharacterTextSplitter()\n",
    "texts = text_splitter.split_text(data)\n",
    "\n",
    "from langchain.docstore.document import Document\n",
    "\n",
    "docs2 = [Document(page_content=t) for t in texts[:3]]\n",
    "print(docs2)"
   ]
  },
  {
   "cell_type": "code",
   "execution_count": null,
   "metadata": {},
   "outputs": [],
   "source": [
    "print(docs)"
   ]
  },
  {
   "attachments": {},
   "cell_type": "markdown",
   "metadata": {},
   "source": [
    "4) Run Map reduce with LangChain"
   ]
  },
  {
   "cell_type": "code",
   "execution_count": 202,
   "metadata": {},
   "outputs": [
    {
     "name": "stdout",
     "output_type": "stream",
     "text": [
      ":\n",
      "\n",
      "Shohei Ohtani of Major League Baseball is proving to be an elite hitter, being able to replicate the best pitches he faces. China's Ding Liren won the World Chess Championship in a dramatic match, and NFL star Lamar Jackson signed a record-breaking contract. QBs dominated the NFL Draft, while basketball star Brittney Griner expressed hope for her future and concern for Americans still held overseas. Giannis Antetokounmpo's \"failure\" speech went viral, and the New York Jets and Knicks both took action. The debate over \"participation trophies\" was tackled, and Washington is preparing for a football apocalypse as the Jets try to acquire Aaron Rodgers. Max Scherzer was suspended for using \"sticky stuff,\" the Oakland A's intend to move to Las Vegas, and the Tampa Bay Rays tied an MLB record with 13 straight wins. The Olympics President proposed a plan for the return of Russian athletes, and the world track and field banned transgender athletes from women's events. German soccer team is offering free tickets to increase attendance, and Manchester City humbled Arsenal in a match. UConn won the NCAA Men's Basketball Title, and a record 9.9 million people tuned in for the NCAA Women's Basketball Final. A dramatic buzzer-beater reveals San Diego State's NCAA Title chase, and a TV show is climbing back up the English soccer ladder. Stephen Curry scored a record-breaking 50 points to lead the Golden State Warriors to victory over the Sacramento Kings in Game 7 of their first-round series. The Knicks absorbed a blow from the Miami Heat in Game 1 of their Eastern Conference semi-final battle. The Toronto Maple Leafs were victorious in the first round of the NHL playoffs, and Japan has proposed a redevelopment plan to level the Meiji Jingu Stadium. Sergio Perez won the Azerbaijan Grand Prix for Red Bull, with Max Verstappen coming in second for the team's third 1-2 finish of the season. The 2023 NFL Draft saw the Philadelphia Eagles, Detroit Lions, and Green Bay Packers make their picks. The Knicks and Heat have a lively postseason history, and Daniel Murphy is attempting a comeback in the independent minor leagues. Trae Young, Jaylen Brown, and Mikal Bridges of the NBA are learning to handle the pressure of the spotlight. Jimmy Butler scored 36 points, including a go-ahead basket with 11.4 seconds remaining, as the Miami Heat defeated the New York Knicks 108-101 in the second round of the playoffs. The Houston Texans and Philadelphia Eagles were given the highest grades in the NFL draft due to their selections. Texas Rangers ace Jacob deGrom was placed on the 15-day injured list due to right forearm tightness, and Philadelphia Phillies star Bryce Harper could return to the lineup as early as Tuesday. The San Diego Padres rallied to sweep a two-game series in Mexico City against the San Francisco Giants. Caleb Williams of Southern California and North Carolina's Drake Maye are already being projected as the top two picks in the 2024 NFL draft. Erling Haaland and Harry Kane both scored landmark goals on Sunday, with Haaland's helping Manchester City move closer to a treble of trophies. Liverpool boss Jurgen Klopp questioned referee Paul Tierney's decisions after the Reds' 4-3 win over Tottenham, and the youthful Kings forced a Game 7 against the Warriors. Memphis Grizzlies sparkplug Dillon Brooks was fined $25,000 for not talking to the media. Manchester United's Bruno Fernandes scored the only goal of the game to secure a 1-0 win over Aston Villa. American golfer Tony Finau won the Mexico Open, Mark Selby compiled a 147 in the final but eventually lost out to Luca Brecel in the World Snooker Championship. Russian tennis player Daria Kasatkina expressed her joy at returning to Wimbledon, and a number of key questions were raised after the historic Six Nations tournament. Newcastle United beat Southampton 2-0, while Leeds United were on the brink of relegation. Exeter were eliminated from the Champions Cup by La Rochelle, and Barcelona's Alexia Putellas made her return from an ACL injury. Inter Milan's Achraf Hakimi was sent off in a game with Paris Saint-Germain, and Manchester United fans held a protest at Aston Villa. Simon Yates secured the Tour de Romandie win, and Manchester City manager Mike Taylor credited their current form to their impressive goal difference. Finally, the legacy of Dutch football legend Johan Cruyff was remembered on what would have been his 75th birthday. \n",
      "\n",
      "Sports News Headlines Summary: Major League Baseball's Shohei Ohtani is proving to be an elite hitter, while China's Ding Liren won the World Chess Championship in a dramatic match. NFL star Lamar Jackson signed a record-breaking contract and QBs dominated the NFL Draft. Basketball star Brittney Griner expressed hope for her future, and Gian\n"
     ]
    }
   ],
   "source": [
    "# Refer to: https://python.langchain.com/en/latest/use_cases/summarization.html\n",
    "\n",
    "from langchain.chains.summarize import load_summarize_chain\n",
    "from langchain import PromptTemplate\n",
    "\n",
    "###############################################################################################\n",
    "\n",
    "news_length = NewsLength.LONG\n",
    "DEBUG = False\n",
    "\n",
    "###############################################################################################\n",
    "\n",
    "map_prompt_template = f\"Write a {news_category} news headlines summary of the following:\"\n",
    "map_prompt_template += \" \\n\\n {text} \\n\\n\"\n",
    "map_prompt_template += f\"PROVIDE SUMMARY WITH AROUND {news_length +10} SENTENCES\"\n",
    "\n",
    "reduce_prompt_template = f\"Write a summary of today's {news_category} news headlines from the following news sources:\"\n",
    "reduce_prompt_template += \" \\n\\n {text} \\n\\n\"\n",
    "reduce_prompt_template += f\"PROVIDE SUMMARY WITH AROUND {news_length} SENTENCES\"\n",
    "\n",
    "\n",
    "MAP_PROMPT = PromptTemplate(template=map_prompt_template, input_variables=[\"text\"])\n",
    "REDUCE_PROMPT = PromptTemplate(template=map_prompt_template, input_variables=[\"text\"])\n",
    "\n",
    "if DEBUG:\n",
    "    chain = load_summarize_chain(llm,\n",
    "                                 chain_type=\"map_reduce\",\n",
    "                                 map_prompt=MAP_PROMPT,\n",
    "                                 combine_prompt=REDUCE_PROMPT,\n",
    "                                 return_map_steps=True)\n",
    "    chain({\"input_documents\": docs}, return_only_outputs=True)\n",
    "else:\n",
    "    chain = load_summarize_chain(\n",
    "        llm, chain_type=\"map_reduce\", map_prompt=MAP_PROMPT,\n",
    "        combine_prompt=REDUCE_PROMPT)\n",
    "    summary = chain.run(docs)\n",
    "    print(summary)\n",
    "\n",
    "    "
   ]
  }
 ],
 "metadata": {
  "kernelspec": {
   "display_name": "Python 3 (ipykernel)",
   "language": "python",
   "name": "python3"
  },
  "language_info": {
   "codemirror_mode": {
    "name": "ipython",
    "version": 3
   },
   "file_extension": ".py",
   "mimetype": "text/x-python",
   "name": "python",
   "nbconvert_exporter": "python",
   "pygments_lexer": "ipython3",
   "version": "3.10.6"
  },
  "orig_nbformat": 4
 },
 "nbformat": 4,
 "nbformat_minor": 2
}
