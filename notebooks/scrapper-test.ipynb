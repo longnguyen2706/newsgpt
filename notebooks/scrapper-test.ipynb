{
 "cells": [
  {
   "cell_type": "markdown",
   "metadata": {},
   "source": [
    "# News Webscrapper\n",
    "\n",
    "Various method to do scrap websites"
   ]
  },
  {
   "cell_type": "code",
   "execution_count": 2,
   "metadata": {
    "vscode": {
     "languageId": "python"
    }
   },
   "outputs": [
    {
     "ename": "ModuleNotFoundError",
     "evalue": "No module named 'newscatcher'",
     "output_type": "error",
     "traceback": [
      "\u001b[0;31m---------------------------------------------------------------------------\u001b[0m",
      "\u001b[0;31mModuleNotFoundError\u001b[0m                       Traceback (most recent call last)",
      "\u001b[0;32m/tmp/ipykernel_68622/1425828006.py\u001b[0m in \u001b[0;36m<module>\u001b[0;34m\u001b[0m\n\u001b[0;32m----> 1\u001b[0;31m \u001b[0;32mfrom\u001b[0m \u001b[0mnewscatcher\u001b[0m \u001b[0;32mimport\u001b[0m \u001b[0mNewscatcher\u001b[0m\u001b[0;34m,\u001b[0m \u001b[0mdescribe_url\u001b[0m\u001b[0;34m\u001b[0m\u001b[0;34m\u001b[0m\u001b[0m\n\u001b[0m\u001b[1;32m      2\u001b[0m \u001b[0;34m\u001b[0m\u001b[0m\n\u001b[1;32m      3\u001b[0m \u001b[0mmm\u001b[0m \u001b[0;34m=\u001b[0m \u001b[0mNewscatcher\u001b[0m\u001b[0;34m(\u001b[0m\u001b[0mwebsite\u001b[0m \u001b[0;34m=\u001b[0m \u001b[0;34m'mediamatters.org'\u001b[0m\u001b[0;34m)\u001b[0m\u001b[0;34m\u001b[0m\u001b[0;34m\u001b[0m\u001b[0m\n\u001b[1;32m      4\u001b[0m \u001b[0;34m\u001b[0m\u001b[0m\n\u001b[1;32m      5\u001b[0m \u001b[0;32mfor\u001b[0m \u001b[0mindex\u001b[0m\u001b[0;34m,\u001b[0m \u001b[0mheadline\u001b[0m \u001b[0;32min\u001b[0m \u001b[0menumerate\u001b[0m\u001b[0;34m(\u001b[0m\u001b[0mmm\u001b[0m\u001b[0;34m.\u001b[0m\u001b[0mget_headlines\u001b[0m\u001b[0;34m(\u001b[0m\u001b[0;34m)\u001b[0m\u001b[0;34m)\u001b[0m\u001b[0;34m:\u001b[0m\u001b[0;34m\u001b[0m\u001b[0;34m\u001b[0m\u001b[0m\n",
      "\u001b[0;31mModuleNotFoundError\u001b[0m: No module named 'newscatcher'"
     ]
    }
   ],
   "source": [
    "from newscatcher import Newscatcher, describe_url\n",
    "\n",
    "mm = Newscatcher(website = 'mediamatters.org')\n",
    "\n",
    "for index, headline in enumerate(mm.get_headlines()):\n",
    "   print(index, headline)"
   ]
  },
  {
   "cell_type": "markdown",
   "metadata": {},
   "source": [
    "2. Run Do Web Scrapper"
   ]
  },
  {
   "cell_type": "code",
   "execution_count": 204,
   "metadata": {
    "vscode": {
     "languageId": "python"
    }
   },
   "outputs": [
    {
     "name": "stdout",
     "output_type": "stream",
     "text": [
      "['https://www.wsj.com/', 'https://www.nytimes.com/', 'https://www.apnews.com/', 'https://www.bbc.com/news/']\n"
     ]
    }
   ],
   "source": [
    "\n",
    "#######################################################################\n",
    "\n",
    "from langchain.document_loaders import SeleniumURLLoader\n",
    "\n",
    "news_category = NewsCategory.ALL\n",
    "urls = news_urls_to_category(news_category)\n",
    "print(urls)\n",
    "\n",
    "loader = SeleniumURLLoader(urls=urls)\n",
    "docs = loader.load()"
   ]
  },
  {
   "cell_type": "code",
   "execution_count": 205,
   "metadata": {
    "vscode": {
     "languageId": "python"
    }
   },
   "outputs": [
    {
     "name": "stdout",
     "output_type": "stream",
     "text": [
      "4\n",
      "<class 'langchain.schema.Document'>\n",
      "9001\n",
      "11612\n",
      "2534\n",
      "9332\n",
      " size after truncation of docs\n",
      "3000\n",
      "3000\n",
      "2534\n",
      "3000\n"
     ]
    }
   ],
   "source": [
    "# Docs Filtering\n",
    "print(len(docs))\n",
    "print(type(docs[0]))\n",
    "\n",
    "# This tries to truncate the page content to 3000 characters\n",
    "for d in docs:\n",
    "    l = len(d.page_content)\n",
    "    print(l)\n",
    "    if l > 3000:\n",
    "        d.page_content = d.page_content[:3000]\n",
    "\n",
    "print(\" size after truncation of docs\")\n",
    "for d in docs:\n",
    "    print(len(d.page_content))\n",
    "\n",
    "# print(docs)"
   ]
  },
  {
   "cell_type": "markdown",
   "metadata": {},
   "source": [
    "Now use OpenAI LLM Model. To get OpenAI API key via Azure, follow [this link](https://learn.microsoft.com/en-gb/azure/cognitive-services/openai/quickstart?tabs=command-line&pivots=programming-language-python)"
   ]
  },
  {
   "cell_type": "code",
   "execution_count": 206,
   "metadata": {
    "vscode": {
     "languageId": "python"
    }
   },
   "outputs": [],
   "source": [
    "import os\n",
    "import openai\n",
    "\n",
    "openai.api_key = \"700fa82411ad46069807d49abd48c7ad\"\n",
    "openai.api_base =  \"https://newsgpt.openai.azure.com/\" # your endpoint should look like the following https://YOUR_RESOURCE_NAME.openai.azure.com/\n",
    "openai.api_type = 'azure'\n",
    "openai.api_version = '2022-12-01' # this may change in the future\n",
    "\n",
    "os.environ[\"OPENAI_API_KEY\"] = openai.api_key\n",
    "os.environ[\"OPENAI_API_TYPE\"] = openai.api_type\n",
    "os.environ[\"OPENAI_API_BASE\"] = openai.api_base\n",
    "os.environ[\"OPENAI_API_VERSION\"] = openai.api_version"
   ]
  },
  {
   "cell_type": "code",
   "execution_count": 148,
   "metadata": {
    "vscode": {
     "languageId": "python"
    }
   },
   "outputs": [
    {
     "name": "stdout",
     "output_type": "stream",
     "text": [
      "Sending a test completion job\n",
      "This article covers a range of stories related to the current state of the economy and market pain, many of which involve foreign haps, technological and financial developments, and business deals. From the construction industry's high employment and Fed interest rate bets, to Chinese information restrictions and GM's electric vehicle legacy, to digital purchases and golf lessons, to luxury homebuying and stolent iPhones, the article covers a diverse array of topics related to industry, finance, and technology.\n"
     ]
    }
   ],
   "source": [
    "# This is to TEST use Azure OpenAI API\n",
    "import os\n",
    "import requests\n",
    "import json\n",
    "\n",
    "deployment_name='text-davinci-003' #This will correspond to the custom name you chose for your deployment when you deployed a model. \n",
    "\n",
    "# Send a completion call to generate an answer\n",
    "print('Sending a test completion job')\n",
    "start_phrase = \"Summarize this article: \\n\" + docs[0].page_content\n",
    "response = openai.Completion.create(engine=deployment_name, prompt=start_phrase, max_tokens=100)\n",
    "text = response['choices'][0]['text'].replace('\\n', '').replace(' .', '.').strip()\n",
    "print(text)"
   ]
  },
  {
   "cell_type": "code",
   "execution_count": 214,
   "metadata": {
    "vscode": {
     "languageId": "python"
    }
   },
   "outputs": [
    {
     "name": "stdout",
     "output_type": "stream",
     "text": [
      "USING API_BASE: \n",
      "https://newsgpt.openai.azure.com/\n"
     ]
    }
   ],
   "source": [
    "from langchain.llms import AzureOpenAI\n",
    "\n",
    "# MODEL_NAME = \"text_curie-001\"\n",
    "MODEL_NAME = \"text-davinci-003\" # Davinci is 10x more expensive, use curie when testing\n",
    "\n",
    "llm = AzureOpenAI(\n",
    "    deployment_name=MODEL_NAME,\n",
    "    model_name=MODEL_NAME,\n",
    "    max_tokens=1000)  # default is 16 in openai API\n"
   ]
  },
  {
   "cell_type": "markdown",
   "metadata": {},
   "source": [
    "The above URL loader will convert the scrapped news to langchain Document format. If we wish to load our own data, we can use the following code:"
   ]
  },
  {
   "cell_type": "code",
   "execution_count": 209,
   "metadata": {
    "vscode": {
     "languageId": "python"
    }
   },
   "outputs": [
    {
     "name": "stdout",
     "output_type": "stream",
     "text": [
      "[Document(page_content='Google’s employees were shocked when they learned in March that the South Korean consumer electronics giant Samsung was considering replacing Google with Microsoft’s Bing as the default search engine on its devices. For years, Bing had been a search engine also-ran. But it became a lot more interesting to industry insiders when it recently added new artificial intelligence technology.     Google’s reaction to the Samsung threat was “panic,” according to internal messages reviewed by The New York Times. An estimated $3 billion in annual revenue was at stake with the Samsung contract. An additional $20 billion is tied to a similar Apple contract that will be up for renewal this year.     A.I. competitors like the new Bing are quickly becoming the most serious threat to Google’s search business in 25 years, and in response, Google is racing to build an all-new search engine powered by the technology. It is also upgrading the existing one with A.I. features, according to internal documents reviewed by The Times.     The new features, under the project name Magi, are being created by designers, engineers and executives working in so-called sprint rooms to tweak and test the latest versions. The new search engine would offer users a far more personalized experience than the company’s current service, attempting to anticipate users’ needs.     Lara Levin, a Google spokeswoman, said in a statement that “not every brainstorm deck or product idea leads to a launch, but as we’ve said before, we’re excited about bringing new A.I.-powered features to search, and will share more details soon.”     Billions of people use Google’s search engine every day for everything from finding restaurants and directions to understanding a medical diagnosis, and that simple white page with the company logo and an empty bar in the middle is one of the most widely used web pages in the world. Changes to it would have a significant impact on the lives of ordinary people, and until recently it was hard to imagine anything challenging it.', metadata={})]\n"
     ]
    }
   ],
   "source": [
    "# use template data\n",
    "data = \"Google’s employees were shocked when they learned in March that the South Korean consumer electronics giant Samsung was considering replacing Google with Microsoft’s Bing as the default search engine on its devices. For years, Bing had been a search engine also-ran. But it became a lot more interesting to industry insiders when it recently added new artificial intelligence technology. \\\n",
    "    Google’s reaction to the Samsung threat was “panic,” according to internal messages reviewed by The New York Times. An estimated $3 billion in annual revenue was at stake with the Samsung contract. An additional $20 billion is tied to a similar Apple contract that will be up for renewal this year. \\\n",
    "    A.I. competitors like the new Bing are quickly becoming the most serious threat to Google’s search business in 25 years, and in response, Google is racing to build an all-new search engine powered by the technology. It is also upgrading the existing one with A.I. features, according to internal documents reviewed by The Times. \\\n",
    "    The new features, under the project name Magi, are being created by designers, engineers and executives working in so-called sprint rooms to tweak and test the latest versions. The new search engine would offer users a far more personalized experience than the company’s current service, attempting to anticipate users’ needs. \\\n",
    "    Lara Levin, a Google spokeswoman, said in a statement that “not every brainstorm deck or product idea leads to a launch, but as we’ve said before, we’re excited about bringing new A.I.-powered features to search, and will share more details soon.” \\\n",
    "    Billions of people use Google’s search engine every day for everything from finding restaurants and directions to understanding a medical diagnosis, and that simple white page with the company logo and an empty bar in the middle is one of the most widely used web pages in the world. Changes to it would have a significant impact on the lives of ordinary people, and until recently it was hard to imagine anything challenging it.\"\n",
    "\n",
    "from langchain.text_splitter import CharacterTextSplitter\n",
    "\n",
    "text_splitter = CharacterTextSplitter()\n",
    "texts = text_splitter.split_text(data)\n",
    "\n",
    "from langchain.docstore.document import Document\n",
    "\n",
    "docs2 = [Document(page_content=t) for t in texts[:3]]\n",
    "print(docs2)"
   ]
  },
  {
   "cell_type": "code",
   "execution_count": null,
   "metadata": {
    "vscode": {
     "languageId": "python"
    }
   },
   "outputs": [],
   "source": [
    "print(docs)"
   ]
  },
  {
   "cell_type": "markdown",
   "metadata": {},
   "source": [
    "4) Run Map reduce with LangChain"
   ]
  },
  {
   "cell_type": "code",
   "execution_count": 213,
   "metadata": {
    "vscode": {
     "languageId": "python"
    }
   },
   "outputs": [
    {
     "name": "stdout",
     "output_type": "stream",
     "text": [
      "\n",
      "\n",
      "Headlines from around the world feature a variety of news stories. In Ukraine, more than 20,000 Russians have died in Bakhmut and hundreds of protesters have been arrested in France over a pension reform. JP Morgan has acquired troubled US bank First Republic in a rescue deal, which will see them take on all its $92 billion in deposits and buy most of its assets. In the US, a Texas father recounts how a gunman opened fire on his home and killed his wife and son. Meanwhile, celebrities are preparing for the Met Gala 2023 and rock band Aerosmith is announcing its farewell tour. Meanwhile, Disney is facing a countersuit in its feud with Florida. Additionally, the US government is lifting most federal COVID-19 vaccine mandates, and US and Philippines relations remain \"ironclad\" amidst tension with China. Goldman Sachs has recently concluded the dollar is up to 15% overvalued, and Elon Musk is attempting to direct AI yet again with his latest startup. Gov. Ron DeSantis of Florida has authorized lawyers to sue Disney without providing details, and American journalists have long been navigating clampdowns in Russia, evident by the arrest of WSJ reporter Evan Gershkovich. Lastly, the private calendar of Jeffrey Epstein reveals prominent names, EY’s breakup plan is really dead, a kidney transplant drug may be able to keep you from aging, Boston is reconnecting with the art of the choke, California college students are in a desperate competition for spots in trailer parks, and West Virginia is facing storm clouds. Lastly, Hippos spawned from drug lord Pablo Escobar’s ranch won’t stop multiplying.\n"
     ]
    }
   ],
   "source": [
    "# Refer to: https://python.langchain.com/en/latest/use_cases/summarization.html\n",
    "\n",
    "from langchain.chains.summarize import load_summarize_chain\n",
    "from langchain import PromptTemplate\n",
    "\n",
    "###############################################################################################\n",
    "\n",
    "news_length = NewsLength.LONG\n",
    "DEBUG = False\n",
    "\n",
    "###############################################################################################\n",
    "\n",
    "map_prompt_template = f\"Write a {news_category} news headlines summary of the following:\"\n",
    "map_prompt_template += \" \\n\\n {text} \\n\\n\"\n",
    "map_prompt_template += f\"PROVIDE SUMMARY WITH AROUND {news_length +10} SENTENCES\"\n",
    "\n",
    "reduce_prompt_template = f\"Write a summary of today's {news_category} news headlines from the following news sources:\"\n",
    "reduce_prompt_template += \" \\n\\n {text} \\n\\n\"\n",
    "reduce_prompt_template += f\"PROVIDE SUMMARY WITH AROUND {news_length} SENTENCES\"\n",
    "\n",
    "\n",
    "MAP_PROMPT = PromptTemplate(template=map_prompt_template, input_variables=[\"text\"])\n",
    "REDUCE_PROMPT = PromptTemplate(template=map_prompt_template, input_variables=[\"text\"])\n",
    "\n",
    "if DEBUG:\n",
    "    chain = load_summarize_chain(llm,\n",
    "                                 chain_type=\"map_reduce\",\n",
    "                                 map_prompt=MAP_PROMPT,\n",
    "                                 combine_prompt=REDUCE_PROMPT,\n",
    "                                 return_map_steps=True)\n",
    "    chain({\"input_documents\": docs}, return_only_outputs=True)\n",
    "else:\n",
    "    chain = load_summarize_chain(\n",
    "        llm, chain_type=\"map_reduce\", map_prompt=MAP_PROMPT,\n",
    "        combine_prompt=REDUCE_PROMPT)\n",
    "    summary = chain.run(docs)\n",
    "    print(summary)\n",
    "\n",
    "    "
   ]
  }
 ],
 "metadata": {
  "kernelspec": {
   "display_name": "Python 3 (ipykernel)",
   "language": "python",
   "name": "python3"
  },
  "language_info": {
   "codemirror_mode": {
    "name": "ipython",
    "version": 3
   },
   "file_extension": ".py",
   "mimetype": "text/x-python",
   "name": "python",
   "nbconvert_exporter": "python",
   "pygments_lexer": "ipython3",
   "version": "3.10.6"
  }
 },
 "nbformat": 4,
 "nbformat_minor": 2
}
